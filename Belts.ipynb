{
  "worksheets": [
    {
      "cells": [
        {
          "cell_type": "code",
          "input": "import pandas as pd\nimport matplotlib.pyplot as plt\n\n# run plots in the notebook\n%matplotlib inline",
          "outputs": [],
          "language": "python",
          "metadata": {
            "cellView": null,
            "executionInfo": {
              "content": {
                "status": "ok",
                "execution_count": 1,
                "payload": [],
                "user_expressions": {},
                "user_variables": {}
              },
              "timestamp": 1503544574804,
              "user_tz": 420,
              "user": {
                "sessionId": "66bb83a9a245fc49",
                "userId": "111624964125968632699",
                "permissionId": "13066763876160941732",
                "displayName": "Daniel Whitt",
                "color": "#1FA15D",
                "isMe": true,
                "isAnonymous": false,
                "photoUrl": "https://lh3.googleusercontent.com/a/default-user=s128"
              }
            }
          }
        },
        {
          "cell_type": "code",
          "input": "url = \"http://pbpython.com/extras/sample-salesv2.csv\"\n\nsales = pd.read_csv(url)",
          "outputs": [],
          "language": "python",
          "metadata": {
            "cellView": null,
            "executionInfo": {
              "content": {
                "status": "ok",
                "execution_count": 2,
                "payload": [],
                "user_expressions": {},
                "user_variables": {}
              },
              "timestamp": 1503544580603,
              "user_tz": 420,
              "user": {
                "sessionId": "66bb83a9a245fc49",
                "userId": "111624964125968632699",
                "permissionId": "13066763876160941732",
                "displayName": "Daniel Whitt",
                "color": "#1FA15D",
                "isMe": true,
                "isAnonymous": false,
                "photoUrl": "https://lh3.googleusercontent.com/a/default-user=s128"
              }
            }
          }
        },
        {
          "cell_type": "code",
          "input": "sales.columns = ['acct_num', 'name', 'sku', 'category', 'quantity', 'unit_price', 'ext_price', 'date']",
          "outputs": [],
          "language": "python",
          "metadata": {
            "cellView": null,
            "executionInfo": {
              "content": {
                "status": "ok",
                "execution_count": 4,
                "payload": [],
                "user_expressions": {},
                "user_variables": {}
              },
              "timestamp": 1503544589828,
              "user_tz": 420,
              "user": {
                "sessionId": "66bb83a9a245fc49",
                "userId": "111624964125968632699",
                "permissionId": "13066763876160941732",
                "displayName": "Daniel Whitt",
                "color": "#1FA15D",
                "isMe": true,
                "isAnonymous": false,
                "photoUrl": "https://lh3.googleusercontent.com/a/default-user=s128"
              }
            }
          }
        },
        {
          "cell_type": "code",
          "input": "\nsales.head()",
          "outputs": [
            {
              "text/html": "<div style=\"max-height:1000px;max-width:1500px;overflow:auto;\">\n<table border=\"1\" class=\"dataframe\">\n  <thead>\n    <tr style=\"text-align: right;\">\n      <th></th>\n      <th>acct_num</th>\n      <th>name</th>\n      <th>sku</th>\n      <th>category</th>\n      <th>quantity</th>\n      <th>unit_price</th>\n      <th>ext_price</th>\n      <th>date</th>\n    </tr>\n  </thead>\n  <tbody>\n    <tr>\n      <th>0</th>\n      <td> 296809</td>\n      <td>                   Carroll PLC</td>\n      <td> QN-82852</td>\n      <td>  Belt</td>\n      <td> 13</td>\n      <td> 44.48</td>\n      <td>  578.24</td>\n      <td> 2014-09-27 07:13:03</td>\n    </tr>\n    <tr>\n      <th>1</th>\n      <td>  98022</td>\n      <td>             Heidenreich-Bosco</td>\n      <td> MJ-21460</td>\n      <td> Shoes</td>\n      <td> 19</td>\n      <td> 53.62</td>\n      <td> 1018.78</td>\n      <td> 2014-07-29 02:10:44</td>\n    </tr>\n    <tr>\n      <th>2</th>\n      <td> 563905</td>\n      <td> Kerluke, Reilly and Bechtelar</td>\n      <td> AS-93055</td>\n      <td> Shirt</td>\n      <td> 12</td>\n      <td> 24.16</td>\n      <td>  289.92</td>\n      <td> 2014-03-01 10:51:24</td>\n    </tr>\n    <tr>\n      <th>3</th>\n      <td>  93356</td>\n      <td>                 Waters-Walker</td>\n      <td> AS-93055</td>\n      <td> Shirt</td>\n      <td>  5</td>\n      <td> 82.68</td>\n      <td>  413.40</td>\n      <td> 2013-11-17 20:41:11</td>\n    </tr>\n    <tr>\n      <th>4</th>\n      <td> 659366</td>\n      <td>                 Waelchi-Fahey</td>\n      <td> AS-93055</td>\n      <td> Shirt</td>\n      <td> 18</td>\n      <td> 99.64</td>\n      <td> 1793.52</td>\n      <td> 2014-01-03 08:14:27</td>\n    </tr>\n  </tbody>\n</table>\n<p>5 rows \u00d7 8 columns</p>\n</div>",
              "text/plain": "   acct_num                           name       sku category  quantity  \\\n0    296809                    Carroll PLC  QN-82852     Belt        13   \n1     98022              Heidenreich-Bosco  MJ-21460    Shoes        19   \n2    563905  Kerluke, Reilly and Bechtelar  AS-93055    Shirt        12   \n3     93356                  Waters-Walker  AS-93055    Shirt         5   \n4    659366                  Waelchi-Fahey  AS-93055    Shirt        18   \n\n   unit_price  ext_price                 date  \n0       44.48     578.24  2014-09-27 07:13:03  \n1       53.62    1018.78  2014-07-29 02:10:44  \n2       24.16     289.92  2014-03-01 10:51:24  \n3       82.68     413.40  2013-11-17 20:41:11  \n4       99.64    1793.52  2014-01-03 08:14:27  \n\n[5 rows x 8 columns]",
              "prompt_number": 4,
              "output_type": "pyout",
              "metadata": {}
            }
          ],
          "language": "python",
          "metadata": {
            "cellView": null,
            "executionInfo": {
              "content": {
                "status": "ok",
                "execution_count": 5,
                "payload": [],
                "user_expressions": {},
                "user_variables": {}
              },
              "timestamp": 1503544597886,
              "user_tz": 420,
              "user": {
                "sessionId": "66bb83a9a245fc49",
                "userId": "111624964125968632699",
                "permissionId": "13066763876160941732",
                "displayName": "Daniel Whitt",
                "color": "#1FA15D",
                "isMe": true,
                "isAnonymous": false,
                "photoUrl": "https://lh3.googleusercontent.com/a/default-user=s128"
              }
            }
          }
        },
        {
          "cell_type": "code",
          "input": "sales.describe()\n",
          "outputs": [
            {
              "text/html": "<div style=\"max-height:1000px;max-width:1500px;overflow:auto;\">\n<table border=\"1\" class=\"dataframe\">\n  <thead>\n    <tr style=\"text-align: right;\">\n      <th></th>\n      <th>acct_num</th>\n      <th>quantity</th>\n      <th>unit_price</th>\n      <th>ext_price</th>\n    </tr>\n  </thead>\n  <tbody>\n    <tr>\n      <th>count</th>\n      <td>   1000.000000</td>\n      <td> 1000.000000</td>\n      <td> 1000.000000</td>\n      <td> 1000.00000</td>\n    </tr>\n    <tr>\n      <th>mean</th>\n      <td> 535208.897000</td>\n      <td>   10.328000</td>\n      <td>   56.179630</td>\n      <td>  579.84390</td>\n    </tr>\n    <tr>\n      <th>std</th>\n      <td> 277589.746014</td>\n      <td>    5.687597</td>\n      <td>   25.331939</td>\n      <td>  435.30381</td>\n    </tr>\n    <tr>\n      <th>min</th>\n      <td>  93356.000000</td>\n      <td>    1.000000</td>\n      <td>   10.060000</td>\n      <td>   10.38000</td>\n    </tr>\n    <tr>\n      <th>25%</th>\n      <td> 299771.000000</td>\n      <td>    5.750000</td>\n      <td>   35.995000</td>\n      <td>  232.60500</td>\n    </tr>\n    <tr>\n      <th>50%</th>\n      <td> 563905.000000</td>\n      <td>   10.000000</td>\n      <td>   56.765000</td>\n      <td>  471.72000</td>\n    </tr>\n    <tr>\n      <th>75%</th>\n      <td> 750461.000000</td>\n      <td>   15.000000</td>\n      <td>   76.802500</td>\n      <td>  878.13750</td>\n    </tr>\n    <tr>\n      <th>max</th>\n      <td> 995267.000000</td>\n      <td>   20.000000</td>\n      <td>   99.970000</td>\n      <td> 1994.80000</td>\n    </tr>\n  </tbody>\n</table>\n<p>8 rows \u00d7 4 columns</p>\n</div>",
              "text/plain": "            acct_num     quantity   unit_price   ext_price\ncount    1000.000000  1000.000000  1000.000000  1000.00000\nmean   535208.897000    10.328000    56.179630   579.84390\nstd    277589.746014     5.687597    25.331939   435.30381\nmin     93356.000000     1.000000    10.060000    10.38000\n25%    299771.000000     5.750000    35.995000   232.60500\n50%    563905.000000    10.000000    56.765000   471.72000\n75%    750461.000000    15.000000    76.802500   878.13750\nmax    995267.000000    20.000000    99.970000  1994.80000\n\n[8 rows x 4 columns]",
              "prompt_number": 5,
              "output_type": "pyout",
              "metadata": {}
            }
          ],
          "language": "python",
          "metadata": {
            "cellView": null,
            "executionInfo": {
              "content": {
                "status": "ok",
                "execution_count": 6,
                "payload": [],
                "user_expressions": {},
                "user_variables": {}
              },
              "timestamp": 1503544605977,
              "user_tz": 420,
              "user": {
                "sessionId": "66bb83a9a245fc49",
                "userId": "111624964125968632699",
                "permissionId": "13066763876160941732",
                "displayName": "Daniel Whitt",
                "color": "#1FA15D",
                "isMe": true,
                "isAnonymous": false,
                "photoUrl": "https://lh3.googleusercontent.com/a/default-user=s128"
              }
            }
          }
        },
        {
          "cell_type": "code",
          "input": "sales['unit_price'].describe()",
          "outputs": [
            {
              "text/plain": "count    1000.000000\nmean       56.179630\nstd        25.331939\nmin        10.060000\n25%        35.995000\n50%        56.765000\n75%        76.802500\nmax        99.970000\nName: unit_price, dtype: float64",
              "prompt_number": 6,
              "output_type": "pyout",
              "metadata": {}
            }
          ],
          "language": "python",
          "metadata": {
            "cellView": null,
            "executionInfo": {
              "content": {
                "status": "ok",
                "execution_count": 7,
                "payload": [],
                "user_expressions": {},
                "user_variables": {}
              },
              "timestamp": 1503544612214,
              "user_tz": 420,
              "user": {
                "sessionId": "66bb83a9a245fc49",
                "userId": "111624964125968632699",
                "permissionId": "13066763876160941732",
                "displayName": "Daniel Whitt",
                "color": "#1FA15D",
                "isMe": true,
                "isAnonymous": false,
                "photoUrl": "https://lh3.googleusercontent.com/a/default-user=s128"
              }
            }
          }
        },
        {
          "cell_type": "code",
          "input": "sales.dtypes",
          "outputs": [
            {
              "text/plain": "acct_num        int64\nname           object\nsku            object\ncategory       object\nquantity        int64\nunit_price    float64\next_price     float64\ndate           object\ndtype: object",
              "prompt_number": 7,
              "output_type": "pyout",
              "metadata": {}
            }
          ],
          "language": "python",
          "metadata": {
            "cellView": null,
            "executionInfo": {
              "content": {
                "status": "ok",
                "execution_count": 8,
                "payload": [],
                "user_expressions": {},
                "user_variables": {}
              },
              "timestamp": 1503544620119,
              "user_tz": 420,
              "user": {
                "sessionId": "66bb83a9a245fc49",
                "userId": "111624964125968632699",
                "permissionId": "13066763876160941732",
                "displayName": "Daniel Whitt",
                "color": "#1FA15D",
                "isMe": true,
                "isAnonymous": false,
                "photoUrl": "https://lh3.googleusercontent.com/a/default-user=s128"
              }
            }
          }
        },
        {
          "cell_type": "code",
          "input": "sales['category'].value_counts()",
          "outputs": [
            {
              "text/plain": "Shirt    404\nShoes    400\nBelt     196\ndtype: int64",
              "prompt_number": 8,
              "output_type": "pyout",
              "metadata": {}
            }
          ],
          "language": "python",
          "metadata": {
            "cellView": null,
            "executionInfo": {
              "content": {
                "status": "ok",
                "execution_count": 9,
                "payload": [],
                "user_expressions": {},
                "user_variables": {}
              },
              "timestamp": 1503544625440,
              "user_tz": 420,
              "user": {
                "sessionId": "66bb83a9a245fc49",
                "userId": "111624964125968632699",
                "permissionId": "13066763876160941732",
                "displayName": "Daniel Whitt",
                "color": "#1FA15D",
                "isMe": true,
                "isAnonymous": false,
                "photoUrl": "https://lh3.googleusercontent.com/a/default-user=s128"
              }
            }
          }
        },
        {
          "cell_type": "code",
          "input": "sales['category'].value_counts().plot(kind=\"bar\")",
          "outputs": [
            {
              "text/plain": "<matplotlib.axes.AxesSubplot at 0xed096970>",
              "prompt_number": 9,
              "output_type": "pyout",
              "metadata": {}
            },
            {
              "image/png": "[encoded data removed]",
              "text/plain": "<matplotlib.figure.Figure at 0xed096870>",
              "output_type": "display_data",
              "metadata": {}
            }
          ],
          "language": "python",
          "metadata": {
            "cellView": null,
            "executionInfo": {
              "content": {
                "status": "ok",
                "execution_count": 10,
                "payload": [],
                "user_expressions": {},
                "user_variables": {}
              },
              "timestamp": 1503544630311,
              "user_tz": 420,
              "user": {
                "sessionId": "66bb83a9a245fc49",
                "userId": "111624964125968632699",
                "permissionId": "13066763876160941732",
                "displayName": "Daniel Whitt",
                "color": "#1FA15D",
                "isMe": true,
                "isAnonymous": false,
                "photoUrl": "https://lh3.googleusercontent.com/a/default-user=s128"
              }
            }
          }
        },
        {
          "cell_type": "code",
          "input": "belt_df = sales[['name', 'category', 'quantity','unit_price']]\nbelt_df = belt_df[belt_df['category']== 'Belt']",
          "outputs": [],
          "language": "python",
          "metadata": {
            "cellView": null,
            "executionInfo": {
              "content": {
                "status": "ok",
                "execution_count": 34,
                "payload": [],
                "user_expressions": {},
                "user_variables": {}
              },
              "timestamp": 1503545142574,
              "user_tz": 420,
              "user": {
                "sessionId": "66bb83a9a245fc49",
                "userId": "111624964125968632699",
                "permissionId": "13066763876160941732",
                "displayName": "Daniel Whitt",
                "color": "#1FA15D",
                "isMe": true,
                "isAnonymous": false,
                "photoUrl": "https://lh3.googleusercontent.com/a/default-user=s128"
              }
            }
          }
        },
        {
          "cell_type": "code",
          "input": "belt_df.head()",
          "outputs": [
            {
              "text/html": "<div style=\"max-height:1000px;max-width:1500px;overflow:auto;\">\n<table border=\"1\" class=\"dataframe\">\n  <thead>\n    <tr style=\"text-align: right;\">\n      <th></th>\n      <th>name</th>\n      <th>category</th>\n      <th>quantity</th>\n      <th>unit_price</th>\n    </tr>\n  </thead>\n  <tbody>\n    <tr>\n      <th>0 </th>\n      <td>                Carroll PLC</td>\n      <td> Belt</td>\n      <td> 13</td>\n      <td> 44.48</td>\n    </tr>\n    <tr>\n      <th>11</th>\n      <td>           Hegmann and Sons</td>\n      <td> Belt</td>\n      <td>  6</td>\n      <td> 13.12</td>\n    </tr>\n    <tr>\n      <th>18</th>\n      <td>  Kihn, McClure and Denesik</td>\n      <td> Belt</td>\n      <td> 15</td>\n      <td> 69.52</td>\n    </tr>\n    <tr>\n      <th>20</th>\n      <td> Volkman, Goyette and Lemke</td>\n      <td> Belt</td>\n      <td> 13</td>\n      <td> 81.19</td>\n    </tr>\n    <tr>\n      <th>23</th>\n      <td>                  Berge LLC</td>\n      <td> Belt</td>\n      <td>  4</td>\n      <td> 57.75</td>\n    </tr>\n  </tbody>\n</table>\n<p>5 rows \u00d7 4 columns</p>\n</div>",
              "text/plain": "                          name category  quantity  unit_price\n0                  Carroll PLC     Belt        13       44.48\n11            Hegmann and Sons     Belt         6       13.12\n18   Kihn, McClure and Denesik     Belt        15       69.52\n20  Volkman, Goyette and Lemke     Belt        13       81.19\n23                   Berge LLC     Belt         4       57.75\n\n[5 rows x 4 columns]",
              "prompt_number": 34,
              "output_type": "pyout",
              "metadata": {}
            }
          ],
          "language": "python",
          "metadata": {
            "cellView": null,
            "executionInfo": {
              "content": {
                "status": "ok",
                "execution_count": 35,
                "payload": [],
                "user_expressions": {},
                "user_variables": {}
              },
              "timestamp": 1503545143235,
              "user_tz": 420,
              "user": {
                "sessionId": "66bb83a9a245fc49",
                "userId": "111624964125968632699",
                "permissionId": "13066763876160941732",
                "displayName": "Daniel Whitt",
                "color": "#1FA15D",
                "isMe": true,
                "isAnonymous": false,
                "photoUrl": "https://lh3.googleusercontent.com/a/default-user=s128"
              }
            }
          }
        },
        {
          "cell_type": "code",
          "input": "sorted_belts = belt_df.sort_values(by='quantity', ascending=False)",
          "outputs": [
            {
              "output_type": "stream",
              "text": "---------------------------------------------------------------------------\nAttributeError                            Traceback (most recent call last)\n<ipython-input-35-e4535707fc52> in <module>()\n----> 1 sorted_belts = belt_df.sort_values(by='quantity', ascending=False)\n\n/usr/lib/python2.7/site-packages/pandas-0.13.1-py2.7-linux-x86_64.egg/pandas/core/generic.py in __getattr__(self, name)\n   1813                 return self[name]\n   1814             raise AttributeError(\"'%s' object has no attribute '%s'\" %\n-> 1815                                  (type(self).__name__, name))\n   1816 \n   1817     def __setattr__(self, name, value):\n\nAttributeError: 'DataFrame' object has no attribute 'sort_values'\n",
              "stream": "stdout"
            }
          ],
          "language": "python",
          "metadata": {
            "cellView": null,
            "executionInfo": {
              "content": {
                "status": "ok",
                "execution_count": 36,
                "payload": [],
                "user_expressions": {},
                "user_variables": {}
              },
              "timestamp": 1503545144098,
              "user_tz": 420,
              "user": {
                "sessionId": "66bb83a9a245fc49",
                "userId": "111624964125968632699",
                "permissionId": "13066763876160941732",
                "displayName": "Daniel Whitt",
                "color": "#1FA15D",
                "isMe": true,
                "isAnonymous": false,
                "photoUrl": "https://lh3.googleusercontent.com/a/default-user=s128"
              }
            }
          }
        },
        {
          "cell_type": "code",
          "input": "belt_df['belt_sales'] = belt_df.quantity * belt_df.unit_price",
          "outputs": [],
          "language": "python",
          "metadata": {
            "cellView": null,
            "executionInfo": {
              "content": {
                "status": "ok",
                "execution_count": 37,
                "payload": [],
                "user_expressions": {},
                "user_variables": {}
              },
              "timestamp": 1503545144660,
              "user_tz": 420,
              "user": {
                "sessionId": "66bb83a9a245fc49",
                "userId": "111624964125968632699",
                "permissionId": "13066763876160941732",
                "displayName": "Daniel Whitt",
                "color": "#1FA15D",
                "isMe": true,
                "isAnonymous": false,
                "photoUrl": "https://lh3.googleusercontent.com/a/default-user=s128"
              }
            }
          }
        },
        {
          "cell_type": "code",
          "input": "belt_df.head()",
          "outputs": [
            {
              "text/html": "<div style=\"max-height:1000px;max-width:1500px;overflow:auto;\">\n<table border=\"1\" class=\"dataframe\">\n  <thead>\n    <tr style=\"text-align: right;\">\n      <th></th>\n      <th>name</th>\n      <th>category</th>\n      <th>quantity</th>\n      <th>unit_price</th>\n      <th>belt_sales</th>\n    </tr>\n  </thead>\n  <tbody>\n    <tr>\n      <th>0 </th>\n      <td>                Carroll PLC</td>\n      <td> Belt</td>\n      <td> 13</td>\n      <td> 44.48</td>\n      <td>  578.24</td>\n    </tr>\n    <tr>\n      <th>11</th>\n      <td>           Hegmann and Sons</td>\n      <td> Belt</td>\n      <td>  6</td>\n      <td> 13.12</td>\n      <td>   78.72</td>\n    </tr>\n    <tr>\n      <th>18</th>\n      <td>  Kihn, McClure and Denesik</td>\n      <td> Belt</td>\n      <td> 15</td>\n      <td> 69.52</td>\n      <td> 1042.80</td>\n    </tr>\n    <tr>\n      <th>20</th>\n      <td> Volkman, Goyette and Lemke</td>\n      <td> Belt</td>\n      <td> 13</td>\n      <td> 81.19</td>\n      <td> 1055.47</td>\n    </tr>\n    <tr>\n      <th>23</th>\n      <td>                  Berge LLC</td>\n      <td> Belt</td>\n      <td>  4</td>\n      <td> 57.75</td>\n      <td>  231.00</td>\n    </tr>\n  </tbody>\n</table>\n<p>5 rows \u00d7 5 columns</p>\n</div>",
              "text/plain": "                          name category  quantity  unit_price  belt_sales\n0                  Carroll PLC     Belt        13       44.48      578.24\n11            Hegmann and Sons     Belt         6       13.12       78.72\n18   Kihn, McClure and Denesik     Belt        15       69.52     1042.80\n20  Volkman, Goyette and Lemke     Belt        13       81.19     1055.47\n23                   Berge LLC     Belt         4       57.75      231.00\n\n[5 rows x 5 columns]",
              "prompt_number": 37,
              "output_type": "pyout",
              "metadata": {}
            }
          ],
          "language": "python",
          "metadata": {
            "cellView": null,
            "executionInfo": {
              "content": {
                "status": "ok",
                "execution_count": 38,
                "payload": [],
                "user_expressions": {},
                "user_variables": {}
              },
              "timestamp": 1503545145830,
              "user_tz": 420,
              "user": {
                "sessionId": "66bb83a9a245fc49",
                "userId": "111624964125968632699",
                "permissionId": "13066763876160941732",
                "displayName": "Daniel Whitt",
                "color": "#1FA15D",
                "isMe": true,
                "isAnonymous": false,
                "photoUrl": "https://lh3.googleusercontent.com/a/default-user=s128"
              }
            }
          }
        },
        {
          "cell_type": "code",
          "input": "belts_by_company = belt_df.groupby('name').sum()",
          "outputs": [],
          "language": "python",
          "metadata": {
            "cellView": null,
            "executionInfo": {
              "content": {
                "status": "ok",
                "execution_count": 39,
                "payload": [],
                "user_expressions": {},
                "user_variables": {}
              },
              "timestamp": 1503545147170,
              "user_tz": 420,
              "user": {
                "sessionId": "66bb83a9a245fc49",
                "userId": "111624964125968632699",
                "permissionId": "13066763876160941732",
                "displayName": "Daniel Whitt",
                "color": "#1FA15D",
                "isMe": true,
                "isAnonymous": false,
                "photoUrl": "https://lh3.googleusercontent.com/a/default-user=s128"
              }
            }
          }
        },
        {
          "cell_type": "code",
          "input": "belts_by_company.head()",
          "outputs": [
            {
              "text/html": "<div style=\"max-height:1000px;max-width:1500px;overflow:auto;\">\n<table border=\"1\" class=\"dataframe\">\n  <thead>\n    <tr style=\"text-align: right;\">\n      <th></th>\n      <th>quantity</th>\n      <th>unit_price</th>\n      <th>belt_sales</th>\n    </tr>\n    <tr>\n      <th>name</th>\n      <th></th>\n      <th></th>\n      <th></th>\n    </tr>\n  </thead>\n  <tbody>\n    <tr>\n      <th>Berge LLC</th>\n      <td> 120</td>\n      <td> 450.96</td>\n      <td> 6033.53</td>\n    </tr>\n    <tr>\n      <th>Carroll PLC</th>\n      <td> 184</td>\n      <td> 733.03</td>\n      <td> 9359.26</td>\n    </tr>\n    <tr>\n      <th>Cole-Eichmann</th>\n      <td> 147</td>\n      <td> 640.67</td>\n      <td> 8112.70</td>\n    </tr>\n    <tr>\n      <th>Davis, Kshlerin and Reilly</th>\n      <td>  33</td>\n      <td> 309.37</td>\n      <td> 1604.13</td>\n    </tr>\n    <tr>\n      <th>Ernser, Cruickshank and Lind</th>\n      <td>  97</td>\n      <td> 564.80</td>\n      <td> 5894.38</td>\n    </tr>\n  </tbody>\n</table>\n<p>5 rows \u00d7 3 columns</p>\n</div>",
              "text/plain": "                              quantity  unit_price  belt_sales\nname                                                          \nBerge LLC                          120      450.96     6033.53\nCarroll PLC                        184      733.03     9359.26\nCole-Eichmann                      147      640.67     8112.70\nDavis, Kshlerin and Reilly          33      309.37     1604.13\nErnser, Cruickshank and Lind        97      564.80     5894.38\n\n[5 rows x 3 columns]",
              "prompt_number": 39,
              "output_type": "pyout",
              "metadata": {}
            }
          ],
          "language": "python",
          "metadata": {
            "cellView": null,
            "executionInfo": {
              "content": {
                "status": "ok",
                "execution_count": 40,
                "payload": [],
                "user_expressions": {},
                "user_variables": {}
              },
              "timestamp": 1503545147822,
              "user_tz": 420,
              "user": {
                "sessionId": "66bb83a9a245fc49",
                "userId": "111624964125968632699",
                "permissionId": "13066763876160941732",
                "displayName": "Daniel Whitt",
                "color": "#1FA15D",
                "isMe": true,
                "isAnonymous": false,
                "photoUrl": "https://lh3.googleusercontent.com/a/default-user=s128"
              }
            }
          }
        },
        {
          "cell_type": "code",
          "input": "belts_by_company = belt_df.groupby('name', as_index=False).sum()",
          "outputs": [],
          "language": "python",
          "metadata": {
            "cellView": null,
            "executionInfo": {
              "content": {
                "status": "ok",
                "execution_count": 41,
                "payload": [],
                "user_expressions": {},
                "user_variables": {}
              },
              "timestamp": 1503545148728,
              "user_tz": 420,
              "user": {
                "sessionId": "66bb83a9a245fc49",
                "userId": "111624964125968632699",
                "permissionId": "13066763876160941732",
                "displayName": "Daniel Whitt",
                "color": "#1FA15D",
                "isMe": true,
                "isAnonymous": false,
                "photoUrl": "https://lh3.googleusercontent.com/a/default-user=s128"
              }
            }
          }
        },
        {
          "cell_type": "code",
          "input": "belts_by_company.head()",
          "outputs": [
            {
              "text/html": "<div style=\"max-height:1000px;max-width:1500px;overflow:auto;\">\n<table border=\"1\" class=\"dataframe\">\n  <thead>\n    <tr style=\"text-align: right;\">\n      <th></th>\n      <th>name</th>\n      <th>quantity</th>\n      <th>unit_price</th>\n      <th>belt_sales</th>\n    </tr>\n  </thead>\n  <tbody>\n    <tr>\n      <th>0</th>\n      <td>                    Berge LLC</td>\n      <td> 120</td>\n      <td> 450.96</td>\n      <td> 6033.53</td>\n    </tr>\n    <tr>\n      <th>1</th>\n      <td>                  Carroll PLC</td>\n      <td> 184</td>\n      <td> 733.03</td>\n      <td> 9359.26</td>\n    </tr>\n    <tr>\n      <th>2</th>\n      <td>                Cole-Eichmann</td>\n      <td> 147</td>\n      <td> 640.67</td>\n      <td> 8112.70</td>\n    </tr>\n    <tr>\n      <th>3</th>\n      <td>   Davis, Kshlerin and Reilly</td>\n      <td>  33</td>\n      <td> 309.37</td>\n      <td> 1604.13</td>\n    </tr>\n    <tr>\n      <th>4</th>\n      <td> Ernser, Cruickshank and Lind</td>\n      <td>  97</td>\n      <td> 564.80</td>\n      <td> 5894.38</td>\n    </tr>\n  </tbody>\n</table>\n<p>5 rows \u00d7 4 columns</p>\n</div>",
              "text/plain": "                           name  quantity  unit_price  belt_sales\n0                     Berge LLC       120      450.96     6033.53\n1                   Carroll PLC       184      733.03     9359.26\n2                 Cole-Eichmann       147      640.67     8112.70\n3    Davis, Kshlerin and Reilly        33      309.37     1604.13\n4  Ernser, Cruickshank and Lind        97      564.80     5894.38\n\n[5 rows x 4 columns]",
              "prompt_number": 41,
              "output_type": "pyout",
              "metadata": {}
            }
          ],
          "language": "python",
          "metadata": {
            "cellView": null,
            "executionInfo": {
              "content": {
                "status": "ok",
                "execution_count": 42,
                "payload": [],
                "user_expressions": {},
                "user_variables": {}
              },
              "timestamp": 1503545149411,
              "user_tz": 420,
              "user": {
                "sessionId": "66bb83a9a245fc49",
                "userId": "111624964125968632699",
                "permissionId": "13066763876160941732",
                "displayName": "Daniel Whitt",
                "color": "#1FA15D",
                "isMe": true,
                "isAnonymous": false,
                "photoUrl": "https://lh3.googleusercontent.com/a/default-user=s128"
              }
            }
          }
        },
        {
          "cell_type": "code",
          "input": "top10",
          "outputs": [
            {
              "output_type": "stream",
              "text": "---------------------------------------------------------------------------\nNameError                                 Traceback (most recent call last)\n<ipython-input-44-63e652bdf073> in <module>()\n----> 1 top10\n\nNameError: name 'top10' is not defined\n",
              "stream": "stdout"
            }
          ],
          "language": "python",
          "metadata": {
            "cellView": null,
            "executionInfo": {
              "content": {
                "status": "ok",
                "execution_count": 47,
                "payload": [],
                "user_expressions": {},
                "user_variables": {}
              },
              "timestamp": 1503545810273,
              "user_tz": 420,
              "user": {
                "sessionId": "66bb83a9a245fc49",
                "userId": "111624964125968632699",
                "permissionId": "13066763876160941732",
                "displayName": "Daniel Whitt",
                "color": "#1FA15D",
                "isMe": true,
                "isAnonymous": false,
                "photoUrl": "https://lh3.googleusercontent.com/a/default-user=s128"
              }
            }
          }
        },
        {
          "cell_type": "code",
          "input": "my_plot = to10.plot(kind=\"bar\", \n                             title=\"Total Belt Sales by Company\",\n                             x=\"name\",\n                             y=\"unit_price\")\nmy_plot.set_xlabel(\"Company Name\")\nmy_plot.set_ylabel(\"Belts Sold ($)\")",
          "outputs": [],
          "language": "python",
          "metadata": {
            "cellView": null,
            "executionInfo": null
          }
        },
        {
          "cell_type": "code",
          "input": "",
          "outputs": [],
          "language": "python",
          "metadata": {
            "cellView": null,
            "executionInfo": null
          }
        }
      ]
    }
  ],
  "metadata": {
    "name": "Untitled5.ipynb",
    "colabVersion": "0.1"
  },
  "nbformat": 3,
  "nbformat_minor": 0
}